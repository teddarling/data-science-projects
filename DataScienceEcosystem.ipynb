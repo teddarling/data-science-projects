{
 "cells": [
  {
   "cell_type": "markdown",
   "id": "a1a5df5e-ae80-4d67-8da4-4c1389c8df5b",
   "metadata": {},
   "source": [
    "# Data Science Tools and Ecosystem"
   ]
  },
  {
   "cell_type": "markdown",
   "id": "bc3a6dc9-7301-413f-861b-fcdf30bc7037",
   "metadata": {},
   "source": [
    "In this notebook, Data Science Tools and Ecosystem are summarized."
   ]
  },
  {
   "cell_type": "markdown",
   "id": "8cf2ed96-c183-47b3-a162-ba677436b61e",
   "metadata": {},
   "source": [
    "**Objectives:**\n",
    "- List popular languages for Data Science.\n",
    "- List popular libraries used for Data Science.\n",
    "- Show an example of a table in a Jupyter notebook.\n",
    "- Show some code examples."
   ]
  },
  {
   "cell_type": "markdown",
   "id": "58bb4ff4-e200-4425-8bb8-a45ce0ae22ee",
   "metadata": {},
   "source": [
    "## Author\n",
    "Ted Darling"
   ]
  },
  {
   "cell_type": "markdown",
   "id": "c0b6ba91-4815-4eba-91a2-85b8b06ab50b",
   "metadata": {},
   "source": [
    "Some of the popular languages that Data Scientists use are:\n",
    "\n",
    "- R\n",
    "- Python\n",
    "- Julia"
   ]
  },
  {
   "cell_type": "markdown",
   "id": "a88a6ddc-336e-410d-bd8f-f4cb1d6ffd0a",
   "metadata": {},
   "source": [
    "Some of the commonly used libraries used by Data Scientists include:\n",
    "1. ggplot\n",
    "2. Matplotlib\n",
    "3. Pandas"
   ]
  },
  {
   "cell_type": "markdown",
   "id": "f11fe910-8cee-410a-b6b9-60b58c7f9377",
   "metadata": {},
   "source": [
    "| Data Science Tools |\n",
    "| ------------------ |\n",
    "| Git |\n",
    "| Jupyter Notebooks |\n",
    "| Anaconda Navigator |"
   ]
  },
  {
   "cell_type": "markdown",
   "id": "9b565ca2-79c1-4847-9c3f-590597e81045",
   "metadata": {},
   "source": [
    "### Below are a few examples of evaluating arithmetic expressions in Python"
   ]
  },
  {
   "cell_type": "code",
   "execution_count": 2,
   "id": "ae4191ce-22bd-4d8c-bf0a-a07e2ea4c97f",
   "metadata": {},
   "outputs": [
    {
     "data": {
      "text/plain": [
       "17"
      ]
     },
     "execution_count": 2,
     "metadata": {},
     "output_type": "execute_result"
    }
   ],
   "source": [
    "# This a simple arithmetic expression to mutiply then add integers.\n",
    "(3*4)+5"
   ]
  },
  {
   "cell_type": "code",
   "execution_count": 6,
   "id": "922f27c4-a4af-4744-b5bb-bf0a464a0557",
   "metadata": {},
   "outputs": [
    {
     "name": "stdout",
     "output_type": "stream",
     "text": [
      "3.3333333333333335\n"
     ]
    }
   ],
   "source": [
    "# This will convert 200 minutes to hours by diving by 60.\n",
    "min = 200\n",
    "hours = 200/60\n",
    "print(hours)"
   ]
  }
 ],
 "metadata": {
  "kernelspec": {
   "display_name": "Python 3 (ipykernel)",
   "language": "python",
   "name": "python3"
  },
  "language_info": {
   "codemirror_mode": {
    "name": "ipython",
    "version": 3
   },
   "file_extension": ".py",
   "mimetype": "text/x-python",
   "name": "python",
   "nbconvert_exporter": "python",
   "pygments_lexer": "ipython3",
   "version": "3.12.4"
  }
 },
 "nbformat": 4,
 "nbformat_minor": 5
}
